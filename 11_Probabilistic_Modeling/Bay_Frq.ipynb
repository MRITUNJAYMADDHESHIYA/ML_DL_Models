{
 "cells": [
  {
   "cell_type": "markdown",
   "id": "50f67cdf",
   "metadata": {},
   "source": [
    "Suppose you toss a coin n=10 times and get 𝑘=7 heads.\n",
    "Frequentist MLE:\n",
    "=7/10=0.7\n",
    "\n",
    "Bayesian with prior \n",
    "Beta(1,1) (uniform prior):\n",
    "Posterior =Beta(8,4)\n",
    "Posterior mean =8/(8+4)=0.666...\n",
    "The Bayesian estimate is “pulled” slightly toward the prior mean (0.5), showing shrinkage due to prior belief."
   ]
  },
  {
   "cell_type": "code",
   "execution_count": 1,
   "id": "62fbe73d",
   "metadata": {},
   "outputs": [],
   "source": [
    "import numpy as np\n",
    "import pandas as pd\n",
    "import scipy.stats\n",
    "import matplotlib.pyplot as plt\n",
    "%matplotlib inline"
   ]
  },
  {
   "cell_type": "code",
   "execution_count": null,
   "id": "b655bc8d",
   "metadata": {},
   "outputs": [],
   "source": []
  }
 ],
 "metadata": {
  "kernelspec": {
   "display_name": "Python 3",
   "language": "python",
   "name": "python3"
  },
  "language_info": {
   "codemirror_mode": {
    "name": "ipython",
    "version": 3
   },
   "file_extension": ".py",
   "mimetype": "text/x-python",
   "name": "python",
   "nbconvert_exporter": "python",
   "pygments_lexer": "ipython3",
   "version": "3.11.5"
  }
 },
 "nbformat": 4,
 "nbformat_minor": 5
}
